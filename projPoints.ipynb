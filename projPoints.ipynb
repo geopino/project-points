{
 "cells": [
  {
   "cell_type": "code",
   "execution_count": null,
   "metadata": {},
   "outputs": [],
   "source": [
    "from pyproj import CRS\n",
    "from pyproj import Transformer\n",
    "import pandas as pd"
   ]
  },
  {
   "cell_type": "code",
   "execution_count": null,
   "metadata": {},
   "outputs": [],
   "source": [
    "origCSV = input('Path to CSV would you like to project?')\n",
    "\n",
    "projCSV = input('Path to projected CSV would?')"
   ]
  },
  {
   "cell_type": "code",
   "execution_count": null,
   "metadata": {},
   "outputs": [],
   "source": [
    "###Define 'from' CRS\n",
    "origCoord = input('EPSG of present CSV?')\n",
    "crs_from = CRS.from_epsg(origCoord)\n",
    "crs_from"
   ]
  },
  {
   "cell_type": "code",
   "execution_count": null,
   "metadata": {},
   "outputs": [],
   "source": [
    "###Define a 'to' CRS\n",
    "projCoord = input('EPSG of projection CRS?')\n",
    "crs_to = CRS.from_epsg(projCoord)\n",
    "crs_to"
   ]
  },
  {
   "cell_type": "code",
   "execution_count": null,
   "metadata": {},
   "outputs": [],
   "source": [
    "###Define a transformer\n",
    "transformer = Transformer.from_crs(crs_from, crs_to)\n",
    "transformer"
   ]
  },
  {
   "cell_type": "code",
   "execution_count": null,
   "metadata": {},
   "outputs": [],
   "source": [
    "###Use pandas to read Northing and Easting from CSV and derive Latitiude Longitude\n",
    "df = pd.read_csv(origCSV, header=0)\n",
    "a = df['x'].values\n",
    "b = df['y'].values\n",
    "df[\"projY\"] = transformer.transform(a, b)[0]\n",
    "df[\"projX\"] = transformer.transform(a, b)[1]\n",
    "df\n",
    "\n"
   ]
  },
  {
   "cell_type": "code",
   "execution_count": null,
   "metadata": {},
   "outputs": [],
   "source": [
    "###Write dataframe to CSV\n",
    "df.to_csv(projCSV)"
   ]
  }
 ],
 "metadata": {
  "interpreter": {
   "hash": "4a785c7a5f12211b352db96a5162e48a7dea6bb97627a64d540c9a28011b908d"
  },
  "kernelspec": {
   "display_name": "Python 3.8.12 ('geopy38')",
   "language": "python",
   "name": "python3"
  },
  "language_info": {
   "codemirror_mode": {
    "name": "ipython",
    "version": 3
   },
   "file_extension": ".py",
   "mimetype": "text/x-python",
   "name": "python",
   "nbconvert_exporter": "python",
   "pygments_lexer": "ipython3",
   "version": "3.8.12"
  },
  "orig_nbformat": 4
 },
 "nbformat": 4,
 "nbformat_minor": 2
}
